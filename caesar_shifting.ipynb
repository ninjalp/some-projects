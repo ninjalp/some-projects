{
 "cells": [
  {
   "cell_type": "code",
   "execution_count": 1,
   "metadata": {},
   "outputs": [
    {
     "name": "stdout",
     "output_type": "stream",
     "text": [
      "ALPCINARUYUYORMU napıyor 1234 \n",
      "[65, 76, 80, 67, 73, 78, 65, 82, 85, 89, 85, 89, 79, 82, 77, 85, 32, 110, 97, 112, 305, 121, 111, 114, 32, 49, 50, 51, 52, 32]\n",
      "[74, 85, 89, 76, 82, 87, 74, 91, 94, 98, 94, 98, 88, 91, 86, 94, 41, 119, 106, 121, 314, 130, 120, 123, 41, 58, 59, 60, 61, 41]\n",
      "['J', 'U', 'Y', 'L', 'R', 'W', 'J', '[', '^', 'b', '^', 'b', 'X', '[', 'V', '^', ')', 'w', 'j', 'y', 'ĺ', '\\x82', 'x', '{', ')', ':', ';', '<', '=', ')']\n"
     ]
    }
   ],
   "source": [
    "with open(\"birseyler.txt\",\"r\",encoding=\"utf-8\") as file:\n",
    "    message=file.read()\n",
    "print(message)\n",
    "\n",
    "asci_message=[ ord(alp) for alp in message]\n",
    "print(asci_message)\n",
    "asci_shift=int(input(\"asci_shift ne olsun ? \"))\n",
    "N=asci_shift\n",
    "asci_message_cipher=[ ord(alp)+N for alp in message]\n",
    "print(asci_message_cipher)\n",
    "char_message=[chr(alp) for alp in asci_message_cipher]\n",
    "print(char_message)"
   ]
  },
  {
   "cell_type": "code",
   "execution_count": null,
   "metadata": {},
   "outputs": [],
   "source": []
  }
 ],
 "metadata": {
  "kernelspec": {
   "display_name": "Python 3",
   "language": "python",
   "name": "python3"
  },
  "language_info": {
   "codemirror_mode": {
    "name": "ipython",
    "version": 3
   },
   "file_extension": ".py",
   "mimetype": "text/x-python",
   "name": "python",
   "nbconvert_exporter": "python",
   "pygments_lexer": "ipython3",
   "version": "3.9.0"
  }
 },
 "nbformat": 4,
 "nbformat_minor": 2
}
