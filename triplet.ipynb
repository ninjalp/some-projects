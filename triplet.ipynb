{
 "cells": [
  {
   "cell_type": "code",
   "execution_count": 1,
   "metadata": {},
   "outputs": [
    {
     "name": "stdout",
     "output_type": "stream",
     "text": [
      "Pythagorean triplets found: [(3, 4, 5), (7, 24, 25)]\n"
     ]
    }
   ],
   "source": [
    "import numpy as np\n",
    "from itertools import combinations\n",
    "\n",
    "def find_pythagorean_triplets(arr):\n",
    "    triplets = []\n",
    "\n",
    "    arr = np.array(arr)\n",
    "    for a, b, c in combinations(arr, 3):\n",
    "        if a**2 + b**2 == c**2 or a**2 + c**2 == b**2 or b**2 + c**2 == a**2:\n",
    "            triplets.append((a, b, c))\n",
    "    \n",
    "    return triplets\n",
    "\n",
    "arr = [3, 1, 4, 6, 5,7,24,25]\n",
    "result = find_pythagorean_triplets(arr)\n",
    "print(\"Pythagorean triplets found:\", result)\n"
   ]
  }
 ],
 "metadata": {
  "kernelspec": {
   "display_name": "Python 3",
   "language": "python",
   "name": "python3"
  },
  "language_info": {
   "codemirror_mode": {
    "name": "ipython",
    "version": 3
   },
   "file_extension": ".py",
   "mimetype": "text/x-python",
   "name": "python",
   "nbconvert_exporter": "python",
   "pygments_lexer": "ipython3",
   "version": "3.9.0"
  }
 },
 "nbformat": 4,
 "nbformat_minor": 2
}
