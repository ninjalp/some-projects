{
 "cells": [
  {
   "cell_type": "code",
   "execution_count": 3,
   "metadata": {},
   "outputs": [
    {
     "name": "stdout",
     "output_type": "stream",
     "text": [
      "Para bozdurma yolları sayısı: 50401\n"
     ]
    }
   ],
   "source": [
    "def para_bozturma_yöntemleri(madeni_paralar, toplam):\n",
    "\n",
    "    yöntemler = [0] * (toplam + 1)\n",
    "    yöntemler[0] = 1 \n",
    "\n",
    "    for madeni_para in madeni_paralar:\n",
    "        for miktar in range(madeni_para, toplam + 1):\n",
    "            yöntemler[miktar] =yöntemler[miktar] +yöntemler[miktar - madeni_para]\n",
    "    return yöntemler[toplam]\n",
    "\n",
    "madeni_paralar = [1, 2, 5]\n",
    "toplam = 1000\n",
    "sonuç = para_bozturma_yöntemleri(madeni_paralar, toplam)\n",
    "print(\"Para bozdurma yolları sayısı:\", sonuç)\n"
   ]
  },
  {
   "cell_type": "code",
   "execution_count": null,
   "metadata": {},
   "outputs": [],
   "source": []
  }
 ],
 "metadata": {
  "kernelspec": {
   "display_name": "Python 3",
   "language": "python",
   "name": "python3"
  },
  "language_info": {
   "codemirror_mode": {
    "name": "ipython",
    "version": 3
   },
   "file_extension": ".py",
   "mimetype": "text/x-python",
   "name": "python",
   "nbconvert_exporter": "python",
   "pygments_lexer": "ipython3",
   "version": "3.9.0"
  }
 },
 "nbformat": 4,
 "nbformat_minor": 2
}
