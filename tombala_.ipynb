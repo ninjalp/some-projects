{
 "cells": [
  {
   "cell_type": "code",
   "execution_count": null,
   "metadata": {},
   "outputs": [],
   "source": [
    "import random \n",
    "\n",
    "with open(\"birseyler.txt\",\"r\",encoding=\"utf-8\") as file:\n",
    "    message = file.read()\n",
    "print(\"message\",message)\n",
    "\n",
    "unique_chars=set(message)"
   ]
  },
  {
   "cell_type": "code",
   "execution_count": null,
   "metadata": {},
   "outputs": [],
   "source": [
    "print(unique_chars)"
   ]
  },
  {
   "cell_type": "code",
   "execution_count": null,
   "metadata": {},
   "outputs": [],
   "source": [
    "while True:\n",
    "    while unique_chars : \n",
    "\n",
    "        random_char=random.choice(list(unique_chars))\n",
    "        print(random_char)\n",
    "        unique_chars.remove(random_char)\n",
    "        input(\"bir sonraki masum\")\n"
   ]
  },
  {
   "cell_type": "code",
   "execution_count": null,
   "metadata": {},
   "outputs": [],
   "source": [
    "while unique_chars : \n",
    "    random_char=random.choice(list(unique_chars))\n",
    "    print(random_char)\n",
    "    unique_chars.remove(random_char)\n",
    "    input(\"bir sonraki masum\")"
   ]
  },
  {
   "cell_type": "code",
   "execution_count": 9,
   "metadata": {},
   "outputs": [
    {
     "name": "stdout",
     "output_type": "stream",
     "text": [
      "Mesaj: 1,2,3,4,5,6,7,8,9\n",
      "\n",
      "Unique karakterler: {'3', ',', '4', '\\n', '7', '8', '2', '9', '1', '5', '6'}\n",
      "Seçilen harf: 9\n",
      "Seçilen harf: 3\n",
      "Seçilen harf: 1\n",
      "Seçilen harf: ,\n",
      "Seçilen harf: \n",
      "\n",
      "Seçilen harf: 8\n",
      "Seçilen harf: 2\n",
      "Seçilen harf: 6\n",
      "Seçilen harf: 5\n",
      "Seçilen harf: 7\n",
      "Seçilen harf: 4\n",
      "Seçilen harf: 4\n",
      "Seçilen harf: 9\n",
      "Seçilen harf: \n",
      "\n",
      "Çıkılıyor...\n"
     ]
    }
   ],
   "source": [
    "import random\n",
    "\n",
    "flag=0\n",
    "with open(\"tombala.txt\", \"r\", encoding=\"utf-8\") as file:\n",
    "        message = file.read()\n",
    "        print(\"Mesaj:\", message)\n",
    "        unique_chars = set(message)\n",
    "        print(\"Unique karakterler:\", unique_chars)\n",
    "\n",
    "while flag==0 :\n",
    "    with open(\"tombala.txt\", \"r\", encoding=\"utf-8\") as file:\n",
    "        message = file.read()\n",
    "        unique_chars = set(message)\n",
    "    while unique_chars:\n",
    "        \n",
    "        random_char = random.choice(list(unique_chars))\n",
    "        print(f\"Seçilen harf: {random_char}\")\n",
    "        unique_chars.remove(random_char)\n",
    "        \n",
    "        user_input = input(\"Devam etmek için bir tuşa basın, çıkmak için 'q' tuşuna basın: \").strip().lower()\n",
    "        if user_input == 'q':\n",
    "            flag=1\n",
    "            print(\"Çıkılıyor...\")\n",
    "            break\n",
    "\n"
   ]
  },
  {
   "cell_type": "code",
   "execution_count": null,
   "metadata": {},
   "outputs": [],
   "source": [
    "e"
   ]
  }
 ],
 "metadata": {
  "kernelspec": {
   "display_name": "Python 3",
   "language": "python",
   "name": "python3"
  },
  "language_info": {
   "codemirror_mode": {
    "name": "ipython",
    "version": 3
   },
   "file_extension": ".py",
   "mimetype": "text/x-python",
   "name": "python",
   "nbconvert_exporter": "python",
   "pygments_lexer": "ipython3",
   "version": "3.9.0"
  }
 },
 "nbformat": 4,
 "nbformat_minor": 2
}
